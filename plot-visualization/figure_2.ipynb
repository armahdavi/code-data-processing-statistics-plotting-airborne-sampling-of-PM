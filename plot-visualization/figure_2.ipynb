{
 "cells": [
  {
   "cell_type": "markdown",
   "id": "af4bc3c3",
   "metadata": {},
   "source": [
    "Figure 2 in Mahdavi et al. (2021) Environmental Pollution\n",
    "\n",
    "This figure illustrates distributional data of DustTrak for PM2.5 concentration week-by-week in the studied home.\n",
    "\n",
    "Plot type: Box plot"
   ]
  },
  {
   "cell_type": "code",
   "execution_count": 2,
   "id": "b75e9978",
   "metadata": {},
   "outputs": [],
   "source": [
    "import matplotlib.pyplot as plt\n",
    "import pandas as pd\n",
    "import numpy as np\n",
    "exec(open(r'C:\\PhD Research\\Generic Codes\\notion_corrections.py').read())"
   ]
  },
  {
   "cell_type": "code",
   "execution_count": 3,
   "id": "44e5ad3b",
   "metadata": {},
   "outputs": [
    {
     "data": {
      "image/png": "[encoded data removed]",
      "text/plain": [
       "<Figure size 432x288 with 1 Axes>"
      ]
     },
     "metadata": {
      "needs_background": "light"
     },
     "output_type": "display_data"
    }
   ],
   "source": [
    "rt = pd.read_excel(backslash_correct(r'C:\\PhD Research\\Airborne\\Processed\\runtime_master.xlsx'))\n",
    "dt = pd.read_excel(backslash_correct(r'C:\\PhD Research\\Airborne\\Processed\\\\') + 'dt_drx.xlsx')\n",
    "dt.rename(columns = {'Date': 'Time'}, inplace = True)\n",
    "\n",
    "df = dt.merge(rt, on = 'Time', how = 'outer')\n",
    "df.drop(['Time', 'Pressure', 'visit_y'], axis = 1, inplace = True)\n",
    "df.rename(columns = {'visit_x': 'visit'}, inplace = True)\n",
    "df = df[df['Mode'] != 'Transient']\n",
    "df.dropna(subset = ['PM1'], inplace = True)\n",
    "\n",
    "df_all = df.copy()\n",
    "df_all['visit'] = 7\n",
    "\n",
    "df = df.append(df_all)\n",
    "\n",
    "df['Mode'].unique()\n",
    "df['visit'].unique()\n",
    "\n",
    "mode_dict = dict(zip(['Off', 'Fan Only', 'Compressor'],range(1,4)))\n",
    "\n",
    "# plt.figure()\n",
    "\n",
    "fig, ax = plt.subplots()\n",
    "\n",
    "medianprops = dict(linestyle = '-', linewidth = 0.5, color = 'black')\n",
    "\n",
    "box1 = plt.boxplot([df[(df['visit'] == 1) & (df['Mode'] == 'Off')]['PM2.5'], \n",
    "                    df[(df['visit'] == 1) & (df['Mode'] == 'Fan Only')]['PM2.5'],\n",
    "                    df[(df['visit'] == 1) & (df['Mode'] == 'Compressor')]['PM2.5']], \n",
    "                    positions = [1,2,3], widths = 0.7, showfliers = False, patch_artist = True, medianprops = medianprops)\n",
    "\n",
    "box2 = plt.boxplot([df[(df['visit'] == 2) & (df['Mode'] == 'Off')]['PM2.5'], \n",
    "                    df[(df['visit'] == 2) & (df['Mode'] == 'Fan Only')]['PM2.5'],\n",
    "                    df[(df['visit'] == 2) & (df['Mode'] == 'Compressor')]['PM2.5']], \n",
    "                    positions = [4.75,5.75,6.75], widths = 0.7, showfliers = False, patch_artist = True, medianprops = medianprops)\n",
    "\n",
    "box3 = plt.boxplot([df[(df['visit'] == 3) & (df['Mode'] == 'Off')]['PM2.5'], \n",
    "                    df[(df['visit'] == 3) & (df['Mode'] == 'Fan Only')]['PM2.5'],\n",
    "                    df[(df['visit'] == 3) & (df['Mode'] == 'Compressor')]['PM2.5']], \n",
    "                    positions = [8.5,9.5,10.5], widths = 0.7, showfliers = False, patch_artist = True, medianprops = medianprops)\n",
    "\n",
    "box4 = plt.boxplot([df[(df['visit'] == 4) & (df['Mode'] == 'Off')]['PM2.5'], \n",
    "                    df[(df['visit'] == 4) & (df['Mode'] == 'Fan Only')]['PM2.5'],\n",
    "                    df[(df['visit'] == 4) & (df['Mode'] == 'Compressor')]['PM2.5']], \n",
    "                    positions = [12.25,13.25,14.25], widths = 0.7, showfliers = False, patch_artist = True, medianprops = medianprops)\n",
    "\n",
    "box5 = plt.boxplot([df[(df['visit'] == 5) & (df['Mode'] == 'Off')]['PM2.5'], \n",
    "                    df[(df['visit'] == 5) & (df['Mode'] == 'Fan Only')]['PM2.5'],\n",
    "                    df[(df['visit'] == 5) & (df['Mode'] == 'Compressor')]['PM2.5']], \n",
    "                    positions = [16,17,18], widths = 0.7, showfliers = False, patch_artist = True, medianprops = medianprops)\n",
    "\n",
    "box6 = plt.boxplot([df[(df['visit'] == 6) & (df['Mode'] == 'Off')]['PM2.5'], \n",
    "                    df[(df['visit'] == 6) & (df['Mode'] == 'Fan Only')]['PM2.5'],\n",
    "                    df[(df['visit'] == 6) & (df['Mode'] == 'Compressor')]['PM2.5']], \n",
    "                    positions = [19.75,20.75,21.75], widths = 0.7, showfliers = False, patch_artist = True, medianprops = medianprops)\n",
    "\n",
    "box7 = plt.boxplot([df[(df['visit'] == 7) & (df['Mode'] == 'Off')]['PM2.5'], \n",
    "                    df[(df['visit'] == 7) & (df['Mode'] == 'Fan Only')]['PM2.5'],\n",
    "                    df[(df['visit'] == 7) & (df['Mode'] == 'Compressor')]['PM2.5']], \n",
    "                    positions = [23.5,24.5,25.5], widths = 0.7, showfliers = False, patch_artist = True, medianprops = medianprops)\n",
    "\n",
    "colors = ['blue', 'royalblue', 'lightblue']\n",
    "\n",
    "for bplot in (box1, box2, box3, box4, box5, box6, box7):\n",
    "    for patch, color in zip(bplot['boxes'], colors):\n",
    "        patch.set_facecolor(color)\n",
    "\n",
    "plt.axvline(x = 3.875, c = 'k', ls = '--', lw = 0.5)\n",
    "plt.axvline(x = 7.625, c = 'k', ls = '--', lw = 0.5)\n",
    "plt.axvline(x = 11.375, c = 'k', ls = '--', lw = 0.5)\n",
    "plt.axvline(x = 15.125, c = 'k', ls = '--', lw = 0.5)\n",
    "plt.axvline(x = 18.875, c = 'k', ls = '--', lw = 0.5)\n",
    "plt.axvline(x = 22.625, c = 'r', ls = '-', lw = 0.5)\n",
    "\n",
    "plt.xticks([])\n",
    "plt.xlim(0.1, 26.4)\n",
    "\n",
    "plt.text(2, -1.8, 'Week 1', fontsize = 9.5, ha = 'center', va = 'center')\n",
    "plt.text(5.75, -1.8, 'Week 2', fontsize = 9.5, ha = 'center', va = 'center')\n",
    "plt.text(9.5, -1.8, 'Week 3', fontsize = 9.5, ha = 'center', va = 'center')\n",
    "plt.text(13.25, -1.8, 'Week 4', fontsize = 9.5, ha = 'center', va = 'center')\n",
    "plt.text(17, -1.8, 'Week 5', fontsize = 9.5, ha = 'center', va = 'center')\n",
    "plt.text(20.75, -1.8, 'Week 6', fontsize = 9.5, ha = 'center', va = 'center')\n",
    "plt.text(24.5, -1.8, 'All Weeks', fontsize = 9.5, ha = 'center', va = 'center')\n",
    "\n",
    "plt.text(1.2, 30.5, '97.4%', fontsize = 6, ha = 'center', va = 'center')\n",
    "plt.text(2.2, 18, '2.6%', fontsize = 6, ha = 'center', va = 'center')\n",
    "plt.text(3.2, 10.5, '0.0%', fontsize = 6, ha = 'center', va = 'center')\n",
    "\n",
    "plt.text(4.95, 16.5, '90.0%', fontsize = 6, ha = 'center', va = 'center')\n",
    "plt.text(5.95, 10, '0.2%', fontsize = 6, ha = 'center', va = 'center')\n",
    "plt.text(6.95, 12.8, '9.7%', fontsize = 6, ha = 'center', va = 'center')\n",
    "\n",
    "plt.text(8.7, 17.4, '81.2%', fontsize = 6, ha = 'center', va = 'center')\n",
    "plt.text(9.7, 10.5, '0.1%', fontsize = 6, ha = 'center', va = 'center')\n",
    "plt.text(10.7, 16.6, '18.7%', fontsize = 6, ha = 'center', va = 'center')\n",
    "\n",
    "plt.text(12.25, 12.4, '93.4%', fontsize = 6, ha = 'center', va = 'center')\n",
    "plt.text(13.45, 13.5, '0.2%', fontsize = 6, ha = 'center', va = 'center')\n",
    "plt.text(14.45, 8, '6.5%', fontsize = 6, ha = 'center', va = 'center')\n",
    "\n",
    "plt.text(17.2, 7, '100%', fontsize = 6, ha = 'center', va = 'center')\n",
    "\n",
    "plt.text(19.75, 3.5, '0.0%', fontsize = 6, ha = 'center', va = 'center')\n",
    "plt.text(20.95, 18.8, '92.9%', fontsize = 6, ha = 'center', va = 'center')\n",
    "plt.text(21.95, 10, '7.1%', fontsize = 6, ha = 'center', va = 'center')\n",
    "\n",
    "plt.text(23.7, 17.8, '55.6%', c = 'r', fontsize = 6, ha = 'center', va = 'center')\n",
    "plt.text(24.7, 15.1, '36.4%', c = 'r', fontsize = 6, ha = 'center', va = 'center')\n",
    "plt.text(25.7, 13.3, '8.0%', c = 'r', fontsize = 6, ha = 'center', va = 'center')\n",
    "\n",
    "plt.ylim(-0.5, 35)\n",
    "plt.yticks(np.arange(0, 31, step = 10))\n",
    "plt.ylabel('PM$_{2.5}$ Concentration (μg/m$^{3}$)', size = 13)\n",
    "plt.tick_params(axis = 'y', direction = 'inout')\n",
    "\n",
    "ax.legend(box1['boxes'], ['OFF', 'Fan Only', 'Compressor'], \n",
    "          ncol = 3, loc='upper center', bbox_to_anchor=(0.501, 1.125),  frameon = True, edgecolor = 'black', framealpha=1)\n",
    "\n",
    "plt.savefig(r'C:/PhD Research/Airborne/Processed/plots/Figure2.jpg', format='jpg', dpi=1600, bbox_inches='tight')\n"
   ]
  },
  {
   "cell_type": "markdown",
   "id": "6e7acc60",
   "metadata": {},
   "source": [
    "End of Code"
   ]
  },
  {
   "cell_type": "code",
   "execution_count": null,
   "id": "b31d1425",
   "metadata": {},
   "outputs": [],
   "source": []
  }
 ],
 "metadata": {
  "kernelspec": {
   "display_name": "Python 3 (ipykernel)",
   "language": "python",
   "name": "python3"
  },
  "language_info": {
   "codemirror_mode": {
    "name": "ipython",
    "version": 3
   },
   "file_extension": ".py",
   "mimetype": "text/x-python",
   "name": "python",
   "nbconvert_exporter": "python",
   "pygments_lexer": "ipython3",
   "version": "3.9.7"
  }
 },
 "nbformat": 4,
 "nbformat_minor": 5
}
