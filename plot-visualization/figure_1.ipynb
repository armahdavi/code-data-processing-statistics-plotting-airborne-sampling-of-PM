{
 "cells": [
  {
   "cell_type": "markdown",
   "id": "e3828047",
   "metadata": {},
   "source": [
    "Figures 1A,B in Mahdavi et al. (2021) Environmental Pollution\n",
    "\n",
    "These figures illustrate weekly-integrated PM and trace metal concentrations in the studied home.\n",
    "\n",
    "Plot type: Bar plot"
   ]
  },
  {
   "cell_type": "code",
   "execution_count": 1,
   "id": "fc5cf70e",
   "metadata": {},
   "outputs": [],
   "source": [
    "import pandas as pd\n",
    "import numpy as np\n",
    "import matplotlib.pyplot as plt\n",
    "exec(open(r'C:\\PhD Research\\Generic Codes\\notion_corrections.py').read())"
   ]
  },
  {
   "cell_type": "code",
   "execution_count": 2,
   "id": "b4668d60",
   "metadata": {},
   "outputs": [
    {
     "data": {
      "image/png": "[encoded data removed]",
      "text/plain": [
       "<Figure size 432x288 with 1 Axes>"
      ]
     },
     "metadata": {
      "needs_background": "light"
     },
     "output_type": "display_data"
    }
   ],
   "source": [
    "#################\n",
    "### Figure 1A ###\n",
    "#################\n",
    "\n",
    "df = pd.read_excel(backslash_correct(r'C:\\PhD Research\\Airborne\\Processed\\pm_master_all.xlsx'))\n",
    "df.columns\n",
    "\n",
    "df_value = df[['visit', 'PM1 SCI', 'PM2.5 SCI', 'PM10 SCI', 'TSP Concentration']].set_index('visit')\n",
    "df_error = df[['visit', 'PM1 SCI Error', 'PM2.5 SCI Error', 'PM10 SCI Error', 'TSP Concentration Error']].set_index('visit')\n",
    "\n",
    "value_name = dict(zip(df_value.columns,range(4)))\n",
    "error_name = dict(zip(df_error.columns,range(4)))\n",
    "\n",
    "df_value.rename(columns = value_name, inplace = True)\n",
    "df_error.rename(columns = error_name, inplace = True)\n",
    "\n",
    "df_value = df_value.unstack()\n",
    "df_error = df_error.unstack()\n",
    "\n",
    "df = pd.concat([df_value, df_error], axis = 1)\n",
    "counter = pd.Series(df.index.get_level_values(0)*(6+1) + df.index.get_level_values(1))\n",
    "\n",
    "df = df.reset_index()\n",
    "# df = pd.join(df, counter, left_index = True, right_index = True)\n",
    "# df = df.join(counter)\n",
    "df = pd.concat([df, counter], axis=1)\n",
    "\n",
    "df.columns = ['PM index', 'visit', 'value', 'error', 'counter']\n",
    "\n",
    "color_code = {0:'dimgrey',\n",
    "              1:'b',\n",
    "              2:'g',\n",
    "              3:'r'}\n",
    "\n",
    "pm_code = {0:'PM$_{1}$',\n",
    "              1:'PM$_{2.5}$',\n",
    "              2:'PM$_{10}$',\n",
    "              3:'TSP'}\n",
    "\n",
    "\n",
    "plt.figure()\n",
    "\n",
    "for p in df['PM index'].unique():\n",
    "    plt.bar(df[df['PM index'] == p]['counter'],df[df['PM index'] == p]['value'], \n",
    "            color = color_code[p], width = 1, edgecolor = 'k', label = pm_code[p],\n",
    "            yerr = (df[df['PM index'] == p]['error'], df[df['PM index'] == p]['error']),\n",
    "            ecolor = 'k', capsize = 3)\n",
    "\n",
    "plt.xticks([])\n",
    "plt.xlim(0,28)\n",
    "\n",
    "j = 0\n",
    "for i in df['counter'].unique():\n",
    "    plt.text(i, -2, str(df.loc[j,'visit']), fontsize = 10, ha = 'center', va = 'center')\n",
    "    j += 1\n",
    "plt.text(14, -5, 'Week #', fontsize = 14, ha = 'center', va = 'center')\n",
    "\n",
    "plt.ylim(0,50)\n",
    "plt.yticks(np.arange(0, 51, step = 10))\n",
    "plt.ylabel('Concentration (µg/m$^{3}$)', size = 14)\n",
    "plt.tick_params(axis = 'y', direction = 'inout')\n",
    "plt.legend(bbox_to_anchor=(1, 1.16), ncol = 4, fontsize = 12, frameon = True, edgecolor = 'black', framealpha=1)\n",
    "\n",
    "plt.savefig(r'C:/Career/Learning/Python Practice/Stata_Python_Booster/PhD - QFF/Processed/plots/Figure1A.jpg', format='jpg', dpi=1600, bbox_inches='tight')\n"
   ]
  },
  {
   "cell_type": "code",
   "execution_count": 3,
   "id": "af988dc8",
   "metadata": {},
   "outputs": [
    {
     "data": {
      "image/png": "[encoded data removed]",
      "text/plain": [
       "<Figure size 432x288 with 1 Axes>"
      ]
     },
     "metadata": {
      "needs_background": "light"
     },
     "output_type": "display_data"
    }
   ],
   "source": [
    "#################\n",
    "### Figure 1B ###\n",
    "#################\n",
    "\n",
    "elem_dict_label = {'Cd': 0,\n",
    "                   'As': 1, \n",
    "                   'Ni': 2,  \n",
    "                   'Pb': 3,  \n",
    "                   'Cu': 4,  \n",
    "                   'Zn': 5}\n",
    "\n",
    "elem_label2 = dict((v, k) for k, v in elem_dict_label.items())\n",
    "\n",
    "color_elem_code = {0:'dimgrey',\n",
    "                   1:'yellow',\n",
    "                   2:'grey',\n",
    "                   3:'b',\n",
    "                   4: 'r', \n",
    "                   5: 'g'}\n",
    "\n",
    "elem_list = stata_varlist_split('Pb As Cd Cu Zn Ni K Ti V Fe Sr Sb')\n",
    "select_list = stata_varlist_split('Pb As Cd Cu Zn Ni')\n",
    "df = pd.read_excel(backslash_correct(r'C:\\Career\\Learning\\Python Practice\\Stata_Python_Booster\\PhD - QFF\\Processed\\tm_concentration_master.xlsx'))\n",
    "\n",
    "df_value = df[['visit'] + select_list].set_index('visit').unstack(level = 1)\n",
    "df_error = df[['visit'] + [col + '_error' for col in select_list]].set_index('visit').unstack(level = 1)\n",
    "\n",
    "\n",
    "a = df_value.reset_index().rename(columns = {'level_0':'Element', \n",
    "                                             0: 'Concentration'})\n",
    "\n",
    "b = df_error.reset_index().rename(columns = {0: 'Error'})['Error']\n",
    "\n",
    "df = pd.concat([a,b], axis = 1)\n",
    "df.replace({'Element': elem_dict_label}, inplace = True)\n",
    "df.sort_values(['Element', 'visit'], inplace = True)\n",
    "df['counter'] = df['visit'] +  (df['Element']) * (6+1)\n",
    "\n",
    "plt.figure()\n",
    "for e in df['Element'].unique():\n",
    "    plt.bar(df[df['Element'] == e]['counter'],df[df['Element'] == e]['Concentration'], \n",
    "            color = color_elem_code[e], width = 1, edgecolor = 'k', label = elem_label2[e],\n",
    "            yerr = (df[df['Element'] == e]['Error'], df[df['Element'] == e]['Error']),\n",
    "            ecolor = 'k', capsize = 3)\n",
    "\n",
    "plt.xticks([])\n",
    "plt.xlim(0,42)\n",
    "\n",
    "plt.yscale('log')\n",
    "plt.ylim(0.01,100)\n",
    "a = [0.01, 0.1, 1, 10, 100]\n",
    "plt.yticks(ticks = a, labels = a)\n",
    "plt.ylabel('Concentration (ng/m$^{3}$)', size = 14)\n",
    "\n",
    "plt.minorticks_off()\n",
    "\n",
    "j = 0\n",
    "for i in df['counter'].unique():\n",
    "    plt.text(i, 0.007, str(df.loc[j,'visit']), fontsize = 9, ha = 'center', va = 'center')\n",
    "    j += 1\n",
    "plt.text(22, 0.004, 'Week #', fontsize = 14, ha = 'center', va = 'center')\n",
    "plt.tick_params(axis = 'y', direction = 'inout')\n",
    "plt.legend(bbox_to_anchor=(1.01, 1.12), ncol = 6, fontsize = 9.5, frameon = True, edgecolor = 'black', framealpha=1)\n",
    "\n",
    "plt.savefig(r'C:/Career/Learning/Python Practice/Stata_Python_Booster/PhD - QFF/Processed/plots/Figure1B.jpg', format='jpg', dpi=1600, bbox_inches='tight')\n"
   ]
  },
  {
   "cell_type": "markdown",
   "id": "c24860d0",
   "metadata": {},
   "source": [
    "End of Code"
   ]
  },
  {
   "cell_type": "code",
   "execution_count": null,
   "id": "af5c3804",
   "metadata": {},
   "outputs": [],
   "source": []
  }
 ],
 "metadata": {
  "kernelspec": {
   "display_name": "Python 3 (ipykernel)",
   "language": "python",
   "name": "python3"
  },
  "language_info": {
   "codemirror_mode": {
    "name": "ipython",
    "version": 3
   },
   "file_extension": ".py",
   "mimetype": "text/x-python",
   "name": "python",
   "nbconvert_exporter": "python",
   "pygments_lexer": "ipython3",
   "version": "3.9.7"
  }
 },
 "nbformat": 4,
 "nbformat_minor": 5
}
