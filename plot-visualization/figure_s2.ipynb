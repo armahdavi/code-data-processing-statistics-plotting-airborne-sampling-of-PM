{
 "cells": [
  {
   "cell_type": "markdown",
   "id": "98d5e3f2",
   "metadata": {},
   "source": [
    "Figure S2 in Mahdavi et al. (2021) Environmental Pollution (in the Supplemental Information (SI))\n",
    "\n",
    "This figure illustrates distributional data of pressures recorded by pressure sensor helping to define the status of HVAC system (as there is distinct pressure recorded per each status).\n",
    "\n",
    "Plot type: Box plot"
   ]
  },
  {
   "cell_type": "code",
   "execution_count": 1,
   "id": "a53273b9",
   "metadata": {},
   "outputs": [],
   "source": [
    "import sys\n",
    "sys.modules[__name__].__dict__.clear()\n",
    "\n",
    "import pandas as pd\n",
    "import numpy as np\n",
    "from matplotlib import pyplot as plt\n",
    "exec(open(r'C:\\PhD Research\\Generic Codes\\notion_corrections.py').read())"
   ]
  },
  {
   "cell_type": "code",
   "execution_count": 2,
   "id": "afd1554c",
   "metadata": {},
   "outputs": [
    {
     "data": {
      "image/png": "[encoded data removed]",
      "text/plain": [
       "<Figure size 432x288 with 1 Axes>"
      ]
     },
     "metadata": {
      "needs_background": "light"
     },
     "output_type": "display_data"
    }
   ],
   "source": [
    "df = pd.read_excel(backslash_correct(r'C:\\PhD Research\\Airborne\\Processed\\runtime_master.xlsx'))\n",
    "\n",
    "df_1 = df[df['Mode'] == 'Compressor']['Pressure'].dropna()\n",
    "df_2 = df[df['Mode'] == 'Fan Only']['Pressure'].dropna()\n",
    "df_3 = df[df['Mode'] == 'Off']['Pressure'].dropna()\n",
    "df_4 = df[df['Mode'] == 'Transient']['Pressure'].dropna()\n",
    "\n",
    "plt.figure()\n",
    "plt.boxplot([df_1, df_2, df_3, df_4], widths = 0.7,\n",
    "            showfliers = False, patch_artist = True, \n",
    "            medianprops = dict(linestyle = '-', linewidth = 0.5, color = 'black'),\n",
    "            boxprops = dict(facecolor=\"grey\"))\n",
    "\n",
    "plt.xticks([])\n",
    "\n",
    "plt.ylim(-0.5, 35)\n",
    "plt.yticks(np.arange(0, 35, step = 10))\n",
    "plt.ylabel('Supply Pressure (Pa)', size = 14)\n",
    "plt.tick_params(axis = 'y', direction = 'inout')\n",
    "\n",
    "plt.text(1, -3, 'Compressor', fontsize = 10, ha = 'center', va='center')\n",
    "plt.text(2, -3, 'Fan Only', fontsize = 10, ha = 'center', va='center')\n",
    "plt.text(3, -3, 'Off', fontsize = 10, ha = 'center', va='center')\n",
    "plt.text(4, -3, 'Transient', fontsize = 10, ha = 'center', va='center')\n",
    "plt.text(4, -5, '(Unknown)', fontsize = 10, ha = 'center', va='center')\n",
    "\n",
    "plt.text(1, 33, str(round((len(df_1)/len(df)) * 100 ,1)) + ' %', fontsize = 10, ha = 'center', va = 'center')\n",
    "plt.text(2, 33, str(round((len(df_2)/len(df)) * 100 ,1)) + ' %', fontsize = 10, ha = 'center', va = 'center')\n",
    "plt.text(3, 33, str(round((len(df_3)/len(df)) * 100 ,1)) + ' %', fontsize = 10, ha = 'center', va = 'center')\n",
    "plt.text(4, 33, str(round((len(df_4)/len(df)) * 100 ,1)) + ' %', fontsize = 10, ha = 'center', va = 'center')\n",
    "\n",
    "plt.savefig(r'C:/PhD Research/Airborne/Processed/plots/Figure_s2.jpg', format='jpg', dpi=1600, bbox_inches='tight')"
   ]
  },
  {
   "cell_type": "markdown",
   "id": "161bafdd",
   "metadata": {},
   "source": [
    "End of Code"
   ]
  },
  {
   "cell_type": "code",
   "execution_count": null,
   "id": "ed26af90",
   "metadata": {},
   "outputs": [],
   "source": []
  }
 ],
 "metadata": {
  "kernelspec": {
   "display_name": "Python 3 (ipykernel)",
   "language": "python",
   "name": "python3"
  },
  "language_info": {
   "codemirror_mode": {
    "name": "ipython",
    "version": 3
   },
   "file_extension": ".py",
   "mimetype": "text/x-python",
   "name": "python",
   "nbconvert_exporter": "python",
   "pygments_lexer": "ipython3",
   "version": "3.9.7"
  }
 },
 "nbformat": 4,
 "nbformat_minor": 5
}
