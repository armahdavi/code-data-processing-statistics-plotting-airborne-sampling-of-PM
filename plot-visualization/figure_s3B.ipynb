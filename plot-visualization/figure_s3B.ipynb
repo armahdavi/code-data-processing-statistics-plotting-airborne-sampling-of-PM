{
 "cells": [
  {
   "cell_type": "markdown",
   "id": "55d3bf24",
   "metadata": {},
   "source": [
    "Figure S3B in Mahdavi et al. (2021) Environmental Pollution (in the Supplemental Information (SI))\n",
    "\n",
    "This figure illustrates weekly data of trace metal concentration week-by-week in the studied home.\n",
    "\n",
    "Plot type: Box plot"
   ]
  },
  {
   "cell_type": "code",
   "execution_count": 2,
   "id": "689bea66",
   "metadata": {},
   "outputs": [],
   "source": [
    "import pandas as pd\n",
    "import numpy as np\n",
    "import matplotlib.pyplot as plt\n",
    "exec(open(r'C:\\PhD Research\\Generic Codes\\notion_corrections.py').read())"
   ]
  },
  {
   "cell_type": "code",
   "execution_count": 3,
   "id": "2f5b9719",
   "metadata": {},
   "outputs": [],
   "source": [
    "#### Data Preprocessing\n",
    "\n",
    "elem_dict_label = {'V': 0,\n",
    "                   'Sb': 1, \n",
    "                   'Sr': 2,  \n",
    "                   'Ti': 3,  \n",
    "                   'K': 4,  \n",
    "                   'Fe': 5}\n",
    "\n",
    "elem_label2 = dict((v, k) for k, v in elem_dict_label.items())\n",
    "\n",
    "color_elem_code = {0: 'grey',\n",
    "                   1: 'lightyellow',\n",
    "                   2: 'darkgrey',\n",
    "                   3: 'lightblue',\n",
    "                   4: 'lightcoral', \n",
    "                   5: 'lightgreen'}\n",
    "\n",
    "elem_list = stata_varlist_split('Pb As Cd Cu Zn Ni K Ti V Fe Sr Sb')\n",
    "select_list = stata_varlist_split('K Ti V Fe Sr Sb')\n",
    "df = pd.read_excel(backslash_correct(r'C:\\PhD Research\\Airborne\\Processed\\tm_concentration_master.xlsx'))\n",
    "\n",
    "df_value = df[['visit'] + select_list].set_index('visit').unstack(level = 1)\n",
    "df_error = df[['visit'] + [col + '_error' for col in select_list]].set_index('visit').unstack(level = 1)\n",
    "\n",
    "a = df_value.reset_index().rename(columns = {'level_0':'Element', \n",
    "                                             0: 'Concentration'})\n",
    "\n",
    "b = df_error.reset_index().rename(columns = {0: 'Error'})['Error']\n",
    "\n",
    "df = pd.concat([a,b], axis = 1)\n",
    "df.replace({'Element': elem_dict_label}, inplace = True)\n",
    "df.sort_values(['Element', 'visit'], inplace = True)\n",
    "df['counter'] = df['visit'] +  (df['Element']) * (6+1)"
   ]
  },
  {
   "cell_type": "code",
   "execution_count": 4,
   "id": "d72a8337",
   "metadata": {},
   "outputs": [
    {
     "data": {
      "image/png": "[encoded data removed]",
      "text/plain": [
       "<Figure size 432x288 with 1 Axes>"
      ]
     },
     "metadata": {
      "needs_background": "light"
     },
     "output_type": "display_data"
    }
   ],
   "source": [
    "##################\n",
    "### Figure S3B ###\n",
    "##################\n",
    "\n",
    "plt.figure()\n",
    "\n",
    "plt.bar(df[df['Element'] == 0]['counter'],df[df['Element'] == 0]['Concentration'], \n",
    "        color = color_elem_code[0], width = 1, edgecolor = 'k', label = elem_label2[0],\n",
    "        yerr = (df[df['Element'] == 0]['Error'], df[df['Element'] == 0]['Error']),\n",
    "        ecolor = 'k', capsize = 3)\n",
    "\n",
    "plt.bar(df[df['Element'] == 1]['counter'],df[df['Element'] == 1]['Concentration'], \n",
    "        color = color_elem_code[1], width = 1, edgecolor = 'k', label = elem_label2[1],\n",
    "        yerr = (df[df['Element'] == 1]['Error'], df[df['Element'] == 1]['Error']),\n",
    "        ecolor = 'k', capsize = 3)\n",
    "\n",
    "x = df[df['Element'] == 2]['counter']\n",
    "y = df[df['Element'] == 2]['Concentration']\n",
    "\n",
    "plt.bar(x, y, \n",
    "        color = color_elem_code[2], width = 1, edgecolor = 'k', label = 'Sr',\n",
    "        yerr = (df[df['Element'] == 2]['Error'], df[df['Element'] == 2]['Error']),\n",
    "        ecolor = 'k', capsize = 3)\n",
    "\n",
    "plt.bar(df[df['Element'] == 3]['counter'],df[df['Element'] == 3]['Concentration'], \n",
    "        color = color_elem_code[3], width = 1, edgecolor = 'k', label = elem_label2[3],\n",
    "        yerr = (df[df['Element'] == 3]['Error'], df[df['Element'] == 3]['Error']),\n",
    "        ecolor = 'k', capsize = 3)\n",
    "\n",
    "plt.bar(df[df['Element'] == 4]['counter'],df[df['Element'] == 4]['Concentration'], \n",
    "        color = color_elem_code[4], width = 1, edgecolor = 'k', label = elem_label2[4],\n",
    "        yerr = (df[df['Element'] == 4]['Error'], df[df['Element'] == 4]['Error']),\n",
    "        ecolor = 'k', capsize = 3)\n",
    "\n",
    "plt.bar(df[df['Element'] == 5]['counter'],df[df['Element'] == 5]['Concentration'], \n",
    "        color = color_elem_code[5], width = 1, edgecolor = 'k', label = elem_label2[5],\n",
    "        yerr = (df[df['Element'] == 5]['Error'], df[df['Element'] == 5]['Error']),\n",
    "        ecolor = 'k', capsize = 3)\n",
    "\n",
    "plt.xticks([])\n",
    "plt.xlim(0,42)\n",
    "\n",
    "plt.yscale('log')\n",
    "plt.ylim(0.01,1000)\n",
    "a = [0.01, 0.1, 1, 10, 100, 1000]\n",
    "plt.yticks(ticks = a, labels = a)\n",
    "plt.ylabel('Concentration (ng/m$^{3}$)', size = 14)\n",
    "\n",
    "plt.minorticks_off()\n",
    "\n",
    "j = 0\n",
    "for i in df['counter'].unique():\n",
    "    plt.text(i, 0.0065, str(df.loc[j,'visit']), fontsize = 9, ha = 'center', va = 'center')\n",
    "    j += 1\n",
    "plt.text(22, 0.0035, 'Week #', fontsize = 14, ha = 'center', va = 'center')\n",
    "\n",
    "plt.legend(bbox_to_anchor=(1.01, 1.12), ncol = 6, fontsize = 10, frameon = True, edgecolor = 'black', framealpha=1)\n",
    "plt.savefig(r'C:/PhD Research/Airborne/Processed/plots/FigureS3B.jpg', format='jpg', dpi=1600, bbox_inches='tight')\n"
   ]
  },
  {
   "cell_type": "markdown",
   "id": "a16ae43c",
   "metadata": {},
   "source": [
    "End of Code"
   ]
  },
  {
   "cell_type": "code",
   "execution_count": null,
   "id": "2e180592",
   "metadata": {},
   "outputs": [],
   "source": []
  }
 ],
 "metadata": {
  "kernelspec": {
   "display_name": "Python 3 (ipykernel)",
   "language": "python",
   "name": "python3"
  },
  "language_info": {
   "codemirror_mode": {
    "name": "ipython",
    "version": 3
   },
   "file_extension": ".py",
   "mimetype": "text/x-python",
   "name": "python",
   "nbconvert_exporter": "python",
   "pygments_lexer": "ipython3",
   "version": "3.9.7"
  }
 },
 "nbformat": 4,
 "nbformat_minor": 5
}
