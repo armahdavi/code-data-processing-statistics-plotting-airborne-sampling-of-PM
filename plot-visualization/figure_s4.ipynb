{
 "cells": [
  {
   "cell_type": "markdown",
   "id": "58ea511a",
   "metadata": {},
   "source": [
    "Figure S4 in Mahdavi et al. (2021) Environmental Pollution (in the Supplemental Information (SI))\n",
    "\n",
    "This figure illustrates distributional data of DC1700 particle number concentration week-by-week in the studied home.\n",
    "\n",
    "Plot type: Box plot"
   ]
  },
  {
   "cell_type": "code",
   "execution_count": 1,
   "id": "a081b190",
   "metadata": {},
   "outputs": [],
   "source": [
    "import pandas as pd\n",
    "import numpy as np\n",
    "import matplotlib.pyplot as plt\n",
    "exec(open(r'C:\\PhD Research\\Generic Codes\\notion_corrections.py').read())"
   ]
  },
  {
   "cell_type": "code",
   "execution_count": 2,
   "id": "3e5b802c",
   "metadata": {},
   "outputs": [],
   "source": [
    "#### Preprocessing\n",
    "\n",
    "cor_f = 6.7223 / 17.9024\n",
    "\n",
    "df = pd.read_excel(backslash_correct(r'C:\\PhD Research\\Airborne\\Processed\\\\') + 'dc_1700.xlsx')\n",
    "df.rename(columns = {'Date/Time': 'Time'}, inplace = True)\n",
    "\n",
    "rt = pd.read_excel(backslash_correct(r'C:\\PhD Research\\Airborne\\Processed\\runtime_master.xlsx'))\n",
    "rt.drop(['visit'], axis = 1, inplace = True)\n",
    "\n",
    "df = df.merge(rt, on = 'Time', how = 'inner')\n",
    "df.columns\n",
    "for col in df.columns:\n",
    "    df.rename(columns = {col : col.strip()}, inplace = True)\n",
    "    \n",
    "df['Concentration'] = (df['Small'] - df['Large']) * 35.3147 * cor_f\n",
    "df.drop(['Pressure', 'Small', 'Large'], axis = 1, inplace = True)\n",
    "\n",
    "df['Mode'] = np.where(df['Mode'] == 'Off', 'Off', 'On')\n",
    "\n",
    "df_new = df.copy()\n",
    "df_new['visit'] = 7\n",
    "\n",
    "df = df.append(df_new)"
   ]
  },
  {
   "cell_type": "code",
   "execution_count": 3,
   "id": "5c08de6f",
   "metadata": {},
   "outputs": [
    {
     "data": {
      "image/png": "[encoded data removed]",
      "text/plain": [
       "<Figure size 432x288 with 1 Axes>"
      ]
     },
     "metadata": {
      "needs_background": "light"
     },
     "output_type": "display_data"
    }
   ],
   "source": [
    "### Figure\n",
    "\n",
    "fig, ax = plt.subplots()\n",
    "\n",
    "medianprops = dict(linestyle = '-', linewidth = 0.5, color = 'black')\n",
    "pos_dict = {1: [1,2],\n",
    "            2: [3.5,4.5],\n",
    "            3: [6,7],\n",
    "            4: [8.5,9.5],\n",
    "            5: [11,12],\n",
    "            6: [13.5,14.5],\n",
    "            7: [16,17]}\n",
    "\n",
    "for v in range(1,8):\n",
    "    vars()['box%s' %v] = plt.boxplot([df[(df['visit'] == v) & (df['Mode'] == 'Off')]['Concentration'], \n",
    "                                      df[(df['visit'] == v) & (df['Mode'] == 'On')]['Concentration']],\n",
    "                                     positions = pos_dict[v], widths = 0.7, showfliers = False, patch_artist = True, medianprops = medianprops)\n",
    "\n",
    "colors = ['dimgrey', 'lightgray']\n",
    "\n",
    "for bplot in (box1, box2, box3, box4, box5, box6, box7):\n",
    "    for patch, color in zip(bplot['boxes'], colors):\n",
    "        patch.set_facecolor(color)\n",
    "\n",
    "plt.axvline(x = 2.75, c = 'k',  ls = (0, (6, 4)), lw = 0.5)\n",
    "plt.axvline(x = 5.25, c = 'k', ls = (0, (6, 4)), lw = 0.5)\n",
    "plt.axvline(x = 7.75, c = 'k', ls = (0, (6, 4)), lw = 0.5)\n",
    "plt.axvline(x = 10.25, c = 'k', ls = (0, (6, 4)), lw = 0.5)\n",
    "plt.axvline(x = 12.75, c = 'k', ls = (0, (6, 4)), lw = 0.5)\n",
    "plt.axvline(x = 15.25, c = 'r', ls = '-', lw = 0.5)\n",
    "\n",
    "plt.xticks([])\n",
    "plt.xlim(0.1, 17.9)\n",
    "\n",
    "plt.yscale('log')\n",
    "plt.ylabel('Concentration (#/m$^{3}$)', fontsize = 14)\n",
    "plt.ylim(70000, 5000000)\n",
    "plt.yticks(np.logspace(5,6,2))\n",
    "\n",
    "plt.text(1.5, 57500, 'Week 1', fontsize = 9.5, ha = 'center', va = 'center')\n",
    "plt.text(4, 57500, 'Week 2', fontsize = 9.5, ha = 'center', va = 'center')\n",
    "plt.text(6.5, 57500, 'Week 3', fontsize = 9.5, ha = 'center', va = 'center')\n",
    "plt.text(9, 57500, 'Week 4', fontsize = 9.5, ha = 'center', va = 'center')\n",
    "plt.text(11.5, 57500, 'Week 5', fontsize = 9.5, ha = 'center', va = 'center')\n",
    "plt.text(14, 57500, 'Week 6', fontsize = 9.5, ha = 'center', va = 'center')\n",
    "plt.text(16.5, 57500, 'All Weeks', fontsize = 9.5, ha = 'center', va = 'center')\n",
    "\n",
    "ax.legend(box1['boxes'], ['OFF', 'Operating'], \n",
    "          ncol = 2, loc='upper center', bbox_to_anchor=(0.501, 1.125),  frameon = True, edgecolor = 'black', framealpha=1)\n",
    "\n",
    "plt.text(1.2, 2000000, '95.2%', fontsize = 6, ha = 'center', va = 'center')\n",
    "plt.text(2.2, 600000, '4.8%', fontsize = 6, ha = 'center', va = 'center')\n",
    "\n",
    "plt.text(3.7, 1800000, '87.0%', fontsize = 6, ha = 'center', va = 'center')\n",
    "plt.text(4.7, 1000000, '13.0%', fontsize = 6, ha = 'center', va = 'center')\n",
    "\n",
    "plt.text(6.2, 1500000, '83.2%', fontsize = 6, ha = 'center', va = 'center')\n",
    "plt.text(7.2, 1000000, '16.8%', fontsize = 6, ha = 'center', va = 'center')\n",
    "\n",
    "plt.text(8.7, 2000000, '94.7%', fontsize = 6, ha = 'center', va = 'center')\n",
    "plt.text(9.7, 700000, '5.3%', fontsize = 6, ha = 'center', va = 'center')\n",
    "\n",
    "plt.text(12.2, 1200000, '100%', fontsize = 6, ha = 'center', va = 'center')\n",
    "\n",
    "plt.text(14.7, 3800000, '100%', fontsize = 6, ha = 'center', va = 'center')\n",
    "\n",
    "plt.text(16.2, 1900000, '59.9%', c = 'r', fontsize = 6, ha = 'center', va = 'center')\n",
    "plt.text(17.2, 2300000, '40.1%', c = 'r', fontsize = 6, ha = 'center', va = 'center')\n",
    "\n",
    "plt.savefig(r'C:/PhD Research/Airborne/Processed/plots/Figure_S4.jpg', format='jpg', dpi=1600, bbox_inches='tight')"
   ]
  },
  {
   "cell_type": "markdown",
   "id": "46cbef9f",
   "metadata": {},
   "source": [
    "End of Code"
   ]
  },
  {
   "cell_type": "code",
   "execution_count": null,
   "id": "da5a75c9",
   "metadata": {},
   "outputs": [],
   "source": []
  }
 ],
 "metadata": {
  "kernelspec": {
   "display_name": "Python 3 (ipykernel)",
   "language": "python",
   "name": "python3"
  },
  "language_info": {
   "codemirror_mode": {
    "name": "ipython",
    "version": 3
   },
   "file_extension": ".py",
   "mimetype": "text/x-python",
   "name": "python",
   "nbconvert_exporter": "python",
   "pygments_lexer": "ipython3",
   "version": "3.9.7"
  }
 },
 "nbformat": 4,
 "nbformat_minor": 5
}
