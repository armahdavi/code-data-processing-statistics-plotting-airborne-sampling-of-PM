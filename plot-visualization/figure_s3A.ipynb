{
 "cells": [
  {
   "cell_type": "markdown",
   "id": "6e0004d5",
   "metadata": {},
   "source": [
    "Figure S3A in Mahdavi et al. (2021) Environmental Pollution (in the Supplemental Information (SI))\n",
    "\n",
    "This figure illustrates distributional data of DustTrack for TSP, PM10, PM2.5, and PM1 concentration week-by-week in the studied home.\n",
    "\n",
    "Plot type: Box plot"
   ]
  },
  {
   "cell_type": "code",
   "execution_count": 1,
   "id": "9cad132d",
   "metadata": {},
   "outputs": [],
   "source": [
    "from matplotlib import pyplot as plt\n",
    "import pandas as pd\n",
    "import numpy as np\n",
    "exec(open(r'C:\\PhD Research\\Generic Codes\\notion_corrections.py').read())"
   ]
  },
  {
   "cell_type": "code",
   "execution_count": 3,
   "id": "ae7db1aa",
   "metadata": {},
   "outputs": [
    {
     "data": {
      "image/png": "[encoded data removed]",
      "text/plain": [
       "<Figure size 432x288 with 1 Axes>"
      ]
     },
     "metadata": {
      "needs_background": "light"
     },
     "output_type": "display_data"
    }
   ],
   "source": [
    "df = pd.read_excel(backslash_correct(r'C:\\PhD Research\\Airborne\\Processed\\\\') + 'dt_drx.xlsx')\n",
    "\n",
    "pos_dict = {1: [1, 2, 3, 4],\n",
    "            2: [5.5, 6.5, 7.5, 8.5],\n",
    "            3: [10, 11, 12, 13],\n",
    "            4: [14.5, 15.5, 16.5, 17.5],\n",
    "            5: [19, 20, 21, 22],\n",
    "            6: [23.5, 24.5, 25.5, 26.5]}\n",
    "\n",
    "# plt.figure()\n",
    "fig, ax = plt.subplots()\n",
    "medianprops = dict(linestyle = '-', linewidth = 0.5, color = 'black')\n",
    "\n",
    "for v in range(1,7):\n",
    "    df_s = df[(df['visit'] == v)]\n",
    "    box = plt.boxplot(df_s[['PM1', 'PM2.5', 'PM10', 'TSP']], positions = pos_dict[v], \n",
    "                      widths = 0.7, showfliers = False, patch_artist = True, medianprops = medianprops)\n",
    "    \n",
    "    colors = ['grey', 'blue', 'green', 'lightcoral']\n",
    "    # bplot = box\n",
    "    for patch, color in zip(box['boxes'], colors):\n",
    "        patch.set_facecolor(color)\n",
    "    \n",
    "plt.xticks([])\n",
    "plt.xlim(0.3,27.2)        \n",
    "\n",
    "plt.ylim(-2,102)\n",
    "plt.yticks(np.arange(0,101,20))\n",
    "plt.ylabel('Concentration (µg/m$^{3}$)', size = 14)\n",
    "# plt.tick_params(axis = 'y', direction = 'inout')\n",
    "\n",
    "plt.text(2.7, -7, 'Week 1', fontsize = 9, ha = 'center', va = 'center')\n",
    "plt.text(7.2, -7, 'Week 2', fontsize = 9, ha = 'center', va = 'center')\n",
    "plt.text(11.7, -7, 'Week 3', fontsize = 9, ha = 'center', va = 'center')\n",
    "plt.text(16.2, -7, 'Week 4', fontsize = 9, ha = 'center', va = 'center')\n",
    "plt.text(20.7, -7, 'Week 5', fontsize = 9, ha = 'center', va = 'center')\n",
    "plt.text(25.2, -7, 'Week 6', fontsize = 9, ha = 'center', va = 'center')\n",
    "\n",
    "ax.legend(box['boxes'], ['PM$_{1}$', 'PM$_{2.5}$', 'PM$_{10}$', 'TSP'], \n",
    "          ncol = 4, loc='upper center', bbox_to_anchor=(0.501, 1.15),  frameon = True, edgecolor = 'black', framealpha=1)\n",
    "\n",
    "plt.savefig(r'C:/PhD Research/Airborne/Processed/plots/FigureS3a.jpg', format='jpg', dpi=1600, bbox_inches='tight')\n"
   ]
  },
  {
   "cell_type": "markdown",
   "id": "6cbedd9e",
   "metadata": {},
   "source": [
    "End of Code"
   ]
  },
  {
   "cell_type": "code",
   "execution_count": null,
   "id": "2a8a304d",
   "metadata": {},
   "outputs": [],
   "source": []
  }
 ],
 "metadata": {
  "kernelspec": {
   "display_name": "Python 3 (ipykernel)",
   "language": "python",
   "name": "python3"
  },
  "language_info": {
   "codemirror_mode": {
    "name": "ipython",
    "version": 3
   },
   "file_extension": ".py",
   "mimetype": "text/x-python",
   "name": "python",
   "nbconvert_exporter": "python",
   "pygments_lexer": "ipython3",
   "version": "3.9.7"
  }
 },
 "nbformat": 4,
 "nbformat_minor": 5
}
