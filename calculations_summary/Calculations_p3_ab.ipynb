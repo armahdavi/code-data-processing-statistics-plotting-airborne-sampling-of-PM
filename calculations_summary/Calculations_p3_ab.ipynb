{
 "cells": [
  {
   "cell_type": "markdown",
   "id": "e1e4dbe2",
   "metadata": {},
   "source": [
    "# Numeric Results Summary\n",
    "The purpose of this file is to summarize and print all the numeric results announced in Mahdavi et al. (2021) Environmental Pollution (Airborne PM Phase)."
   ]
  },
  {
   "cell_type": "code",
   "execution_count": 60,
   "id": "6e169a89",
   "metadata": {},
   "outputs": [],
   "source": [
    "import pandas as pd\n",
    "import numpy as np\n",
    "from scipy.stats import spearmanr, ranksums\n",
    "exec(open(r'C:\\PhD Research\\Generic Codes\\notion_corrections.py').read())"
   ]
  },
  {
   "cell_type": "code",
   "execution_count": 61,
   "id": "4e4aa8a1",
   "metadata": {},
   "outputs": [],
   "source": [
    "### Weekly runtime fractions\n",
    "\n",
    "rt = pd.read_excel(backslash_correct(r'C:\\PhD Research\\Airborne\\Processed\\runtime_sum.xlsx'))\n",
    "rt = rt[rt['Mode'] == \"On\"]['runtime']\n",
    "\n",
    "### PM and runtime correlation results\n",
    "pm = pd.read_excel(backslash_correct(r'C:\\PhD Research\\Airborne\\Processed\\pm_master_all.xlsx'))\n",
    "pm.columns\n",
    "\n",
    "['visit', 'TSP Concentration', 'TSP Concentration Error', 'PM10 SCI',\n",
    "       'PM10 SCI Error', 'PM2.5 SCI', 'PM2.5 SCI Error', 'PM1 SCI',\n",
    "       'PM1 SCI Error', 'PM2.5 PEM', 'PM2.5 PEM Error']\n",
    "\n",
    "a = spearmanr(pm['TSP Concentration'], rt)\n",
    "b = spearmanr(pm['PM10 SCI'], rt)\n",
    "c = spearmanr(pm['PM2.5 SCI'], rt)\n",
    "d = spearmanr(pm['PM1 SCI'], rt)\n",
    "\n",
    "### DustTrak and runtime correlation results\n",
    "rtm = pd.read_excel(backslash_correct(r'C:\\PhD Research\\Airborne\\Processed\\runtime_master.xlsx'))\n",
    "dt = pd.read_excel(backslash_correct(r'C:\\PhD Research\\Airborne\\Processed\\\\') + 'dt_drx.xlsx')\n",
    "dt.rename(columns = {'Date': 'Time'}, inplace = True)\n",
    "\n",
    "df = dt.merge(rtm, on = 'Time', how = 'outer')\n",
    "df.drop(['Time', 'Pressure', 'visit_y'], axis = 1, inplace = True)\n",
    "df.rename(columns = {'visit_x': 'visit'}, inplace = True)\n",
    "df = df[df['Mode'] != 'Transient']\n",
    "df.dropna(subset = ['PM1'], inplace = True)\n",
    "\n",
    "df.head()\n",
    "\n",
    "e = ranksums(df[df['Mode'] == 'Off']['PM2.5'], df[df['Mode'] != 'Off']['PM2.5'])\n",
    "e2 = ranksums(df[df['Mode'] == 'Compressor']['PM2.5'], df[df['Mode'] == 'Fan Only']['PM2.5'])\n",
    "\n",
    "### DC1700 and runtime correlation results\n",
    "cor_f = 6.7223 / 17.9024 # DusTrak correction factor for concentration  adjustment (ratio of gracimetric concnetration to laser recorded concentrations)\n",
    "\n",
    "df2 = pd.read_excel(backslash_correct(r'C:\\PhD Research\\Airborne\\Processed\\\\') + 'dc_1700.xlsx')\n",
    "df2.rename(columns = {'Date/Time': 'Time'}, inplace = True)\n",
    "\n",
    "rt2 = pd.read_excel(backslash_correct(r'C:\\PhD Research\\Airborne\\Processed\\runtime_master.xlsx'))\n",
    "rt2.drop(['visit'], axis = 1, inplace = True)\n",
    "\n",
    "df2 = df2.merge(rt2, on = 'Time', how = 'inner')\n",
    "df2.columns\n",
    "for col in df2.columns:\n",
    "    df2.rename(columns = {col : col.strip()}, inplace = True)\n",
    "  \n",
    "df2['Concentration'] = (df2['Small'] - df2['Large']) * 35.3147 * cor_f\n",
    "df2.drop(['Pressure', 'Small', 'Large'], axis = 1, inplace = True)\n",
    "\n",
    "df2['Mode'] = np.where(df2['Mode'] == 'Off', 'Off', 'On')\n",
    "\n",
    "f = ranksums(df2[df2['Mode'] == 'Off']['Concentration'], df2[df2['Mode'] != 'Off']['Concentration'])\n",
    "\n",
    "### Other descriptive statistic for PM\n",
    "g = pm['PM2.5 SCI'].describe()\n",
    "g2 = pm['TSP Concentration'].describe()"
   ]
  },
  {
   "cell_type": "code",
   "execution_count": 62,
   "id": "2e2199f5",
   "metadata": {},
   "outputs": [
    {
     "name": "stdout",
     "output_type": "stream",
     "text": [
      "Descriptive Statistics and Numeric Results:\n",
      "\n",
      "Runtime fractions were measured as 5.8, 10.0, 18.8, 6.6, 100, and 100%, respectively for the six weeks of the study.\n",
      "The Spearman's rank correlation p-value between TSP concentration and runtime fraction was 0.33.\n",
      "The Spearman's rank correlation p-value between PM10 and runtime fraction was 0.21.\n",
      "The Spearman's rank correlation p-value between PM2.5 and runtime fraction was 0.4.\n",
      "The Spearman's rank correlation p-value between PM1 and runtime fraction was 0.33.\n",
      "The ranksum p-value result for the comparison of PM2.5 at the off and running system cases is 0.0.\n",
      "The ranksum p-value result for the comparison of PM2.5 at the compressor and fan only cases is 0.0.\n",
      "The ranksum p-value result for the comparison of numer concentration at the off and running system cases is 0.004.\n",
      "PM2.5 concentration ranged from 3.0 to 9.2 with a median of 7.2 μg/m3.\n",
      "TSP concentration ranged from 8.9 to 34.4 with a median of 17.4 μg/m3.\n"
     ]
    }
   ],
   "source": [
    "### Descriptive Statistics and Numerical Results (in the PM Phase of the paper)\n",
    "\n",
    "print('Descriptive Statistics and Numeric Results:\\n')\n",
    "\n",
    "print('Runtime fractions were measured as {}, {}, {}, {}, {}, and {}%, respectively for the six weeks of the study.'.format(round(rt.iloc[0],1),\n",
    "                                                                                                                         round(rt.iloc[1],1),\n",
    "                                                                                                                         round(rt.iloc[2],1),\n",
    "                                                                                                                         round(rt.iloc[3],1),\n",
    "                                                                                                                         int(round(rt.iloc[4],0)),\n",
    "                                                                                                                         int(round(rt.iloc[5],0))))\n",
    "\n",
    "print(\"The Spearman's rank correlation p-value between TSP concentration and runtime fraction was {}.\".format(round(a[1],2)))\n",
    "print(\"The Spearman's rank correlation p-value between PM10 and runtime fraction was {}.\".format(round(b[1],2)))\n",
    "print(\"The Spearman's rank correlation p-value between PM2.5 and runtime fraction was {}.\".format(round(c[1],2)))\n",
    "print(\"The Spearman's rank correlation p-value between PM1 and runtime fraction was {}.\".format(round(d[1],2)))\n",
    "\n",
    "print('The ranksum p-value result for the comparison of PM2.5 at the off and running system cases is {}.'.format(round(e[1],4)))\n",
    "print('The ranksum p-value result for the comparison of PM2.5 at the compressor and fan only cases is {}.'.format(round(e2[1],4)))\n",
    "\n",
    "print('The ranksum p-value result for the comparison of numer concentration at the off and running system cases is {}.'.format(round(f[1],4)))\n",
    "\n",
    "print('PM2.5 concentration ranged from {} to {} with a median of {} μg/m3.'.format(round(g[3],1),\n",
    "                                                                                  round(g[7],1),\n",
    "                                                                                  round(g[5],1)))\n",
    "\n",
    "print('TSP concentration ranged from {} to {} with a median of {} μg/m3.'.format(round(g2[3],1),\n",
    "                                                                                  round(g2[7],1),\n",
    "                                                                                  round(g2[5],1)))\n"
   ]
  },
  {
   "cell_type": "markdown",
   "id": "313e42ff",
   "metadata": {},
   "source": [
    "End of Code"
   ]
  },
  {
   "cell_type": "code",
   "execution_count": null,
   "id": "4e5916af",
   "metadata": {},
   "outputs": [],
   "source": []
  }
 ],
 "metadata": {
  "kernelspec": {
   "display_name": "Python 3 (ipykernel)",
   "language": "python",
   "name": "python3"
  },
  "language_info": {
   "codemirror_mode": {
    "name": "ipython",
    "version": 3
   },
   "file_extension": ".py",
   "mimetype": "text/x-python",
   "name": "python",
   "nbconvert_exporter": "python",
   "pygments_lexer": "ipython3",
   "version": "3.9.7"
  }
 },
 "nbformat": 4,
 "nbformat_minor": 5
}
